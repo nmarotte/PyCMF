{
 "cells": [
  {
   "cell_type": "markdown",
   "metadata": {
    "pycharm": {
     "name": "#%% md\n"
    }
   },
   "source": [
    "The usual OO implementation of a cube with numpy for the data. It only stores the top-left-back most point in a 3D space where the origin is the top-left-back most point, and has another variable for the size of the Cube. The only function that can be applied is `push_up` which will push the cube up (the y-axis component will decrease)"
   ]
  },
  {
   "cell_type": "code",
   "execution_count": 19,
   "metadata": {},
   "outputs": [],
   "source": [
    "import random\n",
    "\n",
    "import numpy as np\n",
    "from typing import Iterable\n",
    "import time\n",
    "\n",
    "from matplotlib import pyplot as plt\n",
    "from tqdm import trange"
   ]
  },
  {
   "cell_type": "code",
   "execution_count": 20,
   "metadata": {},
   "outputs": [],
   "source": [
    "class Cube:\n",
    "    top_left_back_point: np.array\n",
    "    size: int\n",
    "\n",
    "    def __init__(self, top_left_back_point: tuple[int, int, int], size: int):\n",
    "        self.top_left_back_point = np.array(top_left_back_point)\n",
    "        self.size = size\n",
    "\n",
    "    def push_up(self, amount: int):\n",
    "        self.top_left_back_point[1] = max(0, self.top_left_back_point[1] - amount)"
   ]
  },
  {
   "cell_type": "markdown",
   "metadata": {},
   "source": [
    "Then we can instantiate cubes "
   ]
  },
  {
   "cell_type": "code",
   "execution_count": 21,
   "metadata": {},
   "outputs": [],
   "source": [
    "def instantiate_cubes(nb=100):\n",
    "    cubes = []\n",
    "    for i in range(nb):\n",
    "        cubes.append(Cube((i, i*2, i*3), 1))\n",
    "    return cubes"
   ]
  },
  {
   "cell_type": "code",
   "execution_count": 22,
   "metadata": {},
   "outputs": [
    {
     "name": "stdout",
     "output_type": "stream",
     "text": [
      "[ 43  86 129]\n",
      "1\n",
      "[ 43  60 129]\n"
     ]
    }
   ],
   "source": [
    "cubes = instantiate_cubes()\n",
    "print(cubes[43].top_left_back_point)\n",
    "print(cubes[43].size)\n",
    "cubes[43].push_up(26)\n",
    "print(cubes[43].top_left_back_point)"
   ]
  },
  {
   "cell_type": "markdown",
   "metadata": {},
   "source": [
    "Implemanting a handler for the data of all the cubes using numpy\n"
   ]
  },
  {
   "cell_type": "code",
   "execution_count": 23,
   "metadata": {},
   "outputs": [],
   "source": [
    "class CubeHandler:\n",
    "    instances: np.array = np.empty(dtype=Cube, shape=20)\n",
    "    top_left_back_points: np.array = np.empty(dtype=int, shape=(200, 3))\n",
    "    sizes: np.array = np.empty(dtype=int, shape=200)\n",
    "    next_index = 0\n",
    "\n",
    "    @staticmethod\n",
    "    def get_next_index():\n",
    "        index = CubeHandler.next_index\n",
    "        if index >= len(CubeHandler.instances):\n",
    "            # Extending the arrays\n",
    "            CubeHandler.top_left_back_points = np.append(CubeHandler.top_left_back_points, np.empty_like(CubeHandler.top_left_back_points), axis=0)\n",
    "            CubeHandler.sizes = np.append(CubeHandler.sizes, np.empty_like(CubeHandler.sizes))\n",
    "            CubeHandler.instances = np.append(CubeHandler.instances, np.empty_like(CubeHandler.instances))\n",
    "        CubeHandler.next_index += 1\n",
    "        return index"
   ]
  },
  {
   "cell_type": "markdown",
   "metadata": {},
   "source": [
    "Then, we can reimplement the Cube without its main attributes"
   ]
  },
  {
   "cell_type": "code",
   "execution_count": 24,
   "metadata": {},
   "outputs": [],
   "source": [
    "StandaloneCube = Cube\n",
    "class Cube:\n",
    "    def __init__(self, top_left_back_point: tuple[int, int, int], size: int):\n",
    "        self.__index = CubeHandler.get_next_index()\n",
    "        CubeHandler.top_left_back_points[self.__index] = top_left_back_point\n",
    "        CubeHandler.sizes[self.__index] = size\n",
    "        CubeHandler.instances[self.__index] = self\n",
    "\n",
    "    def push_up(self, amount: int):\n",
    "        if self is None:\n",
    "            self = CubeHandler.instances\n",
    "        if isinstance(self, Cube):\n",
    "            self = [self]\n",
    "\n",
    "        for cube in self:\n",
    "            if cube is None:\n",
    "                continue\n",
    "            cube.top_left_back_point[1] = max(0, cube.top_left_back_point[1] - amount)\n",
    "\n",
    "    @property\n",
    "    def top_left_back_point(self):\n",
    "        return CubeHandler.top_left_back_points[self.__index]\n",
    "\n",
    "    @top_left_back_point.setter\n",
    "    def top_left_back_point(self, value: tuple[int, int, int]):\n",
    "        CubeHandler.top_left_back_points[self.__index] = value\n",
    "\n",
    "    @property\n",
    "    def size(self):\n",
    "        return CubeHandler.sizes[self.__index]\n",
    "\n",
    "    @size.setter\n",
    "    def size(self, value: int):\n",
    "        CubeHandler.sizes[self.__index] = value\n"
   ]
  },
  {
   "cell_type": "code",
   "execution_count": 25,
   "metadata": {},
   "outputs": [
    {
     "name": "stdout",
     "output_type": "stream",
     "text": [
      "[ 43  86 129]\n",
      "1\n",
      "[ 43  60 129]\n"
     ]
    }
   ],
   "source": [
    "cubes = instantiate_cubes()\n",
    "print(cubes[43].top_left_back_point)\n",
    "print(cubes[43].size)\n",
    "cubes[43].push_up(26)\n",
    "print(cubes[43].top_left_back_point)"
   ]
  },
  {
   "cell_type": "markdown",
   "metadata": {},
   "source": [
    "The interface is the same, but now comes with an advantage of being able to apply functions on the data more efficiently"
   ]
  },
  {
   "cell_type": "code",
   "execution_count": 26,
   "metadata": {},
   "outputs": [
    {
     "name": "stdout",
     "output_type": "stream",
     "text": [
      "[20, 22, 24, 26, 28, 30, 32, 34, 36, 38]\n",
      "[15, 17, 19, 21, 23, 25, 27, 29, 31, 33]\n"
     ]
    }
   ],
   "source": [
    "cubes = instantiate_cubes()\n",
    "print(list(x.top_left_back_point[1] for x in cubes[10:20]))\n",
    "Cube.push_up(cubes, 5)\n",
    "print(list(x.top_left_back_point[1] for x in cubes[10:20]))"
   ]
  },
  {
   "cell_type": "code",
   "execution_count": 27,
   "metadata": {},
   "outputs": [
    {
     "name": "stdout",
     "output_type": "stream",
     "text": [
      "320\n"
     ]
    },
    {
     "data": {
      "text/plain": "200"
     },
     "execution_count": 27,
     "metadata": {},
     "output_type": "execute_result"
    }
   ],
   "source": [
    "print(len(CubeHandler.instances))\n",
    "CubeHandler.get_next_index()"
   ]
  },
  {
   "cell_type": "markdown",
   "metadata": {},
   "source": [
    "But we can also use a fast implementation of the same function that would be much slower in OO"
   ]
  },
  {
   "cell_type": "code",
   "execution_count": 28,
   "metadata": {},
   "outputs": [],
   "source": [
    "nb_cubes = 1000\n",
    "nb_iter = 100"
   ]
  },
  {
   "cell_type": "code",
   "execution_count": 29,
   "metadata": {},
   "outputs": [
    {
     "name": "stderr",
     "output_type": "stream",
     "text": [
      "100%|██████████| 100/100 [00:00<00:00, 478.36it/s]"
     ]
    },
    {
     "name": "stdout",
     "output_type": "stream",
     "text": [
      "0.021212556499995115\n"
     ]
    },
    {
     "name": "stderr",
     "output_type": "stream",
     "text": [
      "\n"
     ]
    }
   ],
   "source": [
    "all_cubes = [[Cube((j, j*2, j*3), 100) for j in range(nb_cubes)] for i in range(nb_iter)]  # Generate before starting the timer\n",
    "start = time.perf_counter()\n",
    "for i in trange(nb_iter):\n",
    "    cubes = all_cubes[i]\n",
    "    Cube.push_up(cubes, 5)\n",
    "print((time.perf_counter() - start)/10)"
   ]
  },
  {
   "cell_type": "code",
   "execution_count": 30,
   "metadata": {},
   "outputs": [
    {
     "name": "stderr",
     "output_type": "stream",
     "text": [
      "100%|██████████| 100/100 [00:00<00:00, 365.19it/s]"
     ]
    },
    {
     "name": "stdout",
     "output_type": "stream",
     "text": [
      "0.02768227550004667\n"
     ]
    },
    {
     "name": "stderr",
     "output_type": "stream",
     "text": [
      "\n"
     ]
    }
   ],
   "source": [
    "all_cubes = [[Cube((j, j*2, j*3), 100) for j in range(nb_cubes)] for i in range(nb_iter)]  # Generate before starting the timer\n",
    "start = time.perf_counter()\n",
    "for i in trange(nb_iter):\n",
    "    cubes = all_cubes[i]\n",
    "    for cube in cubes:\n",
    "        cube.push_up(5)\n",
    "print((time.perf_counter() - start)/10)"
   ]
  },
  {
   "cell_type": "markdown",
   "metadata": {},
   "source": [
    "There is a small overhead when using this paradigm, but the advantage is that we can take advantages of the fact that in some context, we will have to apply the same mathematical transformation to a number of adjacent indexes and this can be optimized, whereas in the case of 1 function call = 1 modification, it would be more complex to apply some optimizations"
   ]
  },
  {
   "cell_type": "code",
   "execution_count": 31,
   "metadata": {
    "pycharm": {
     "name": "#%%\n"
    }
   },
   "outputs": [],
   "source": [
    "import threading\n",
    "\n",
    "def parallel_push_up(self, amount):\n",
    "    for cube in self:\n",
    "        if cube is None:\n",
    "            continue\n",
    "        cube.top_left_back_point[1] = max(0, cube.top_left_back_point[1] - amount)\n",
    "    return self\n",
    "\n",
    "def push_up_multi(self, amount):\n",
    "    if self is None:\n",
    "        self = CubeHandler.instances\n",
    "    if isinstance(self, Cube):\n",
    "        self = [self]\n",
    "    threads = []\n",
    "    for i in range(4):\n",
    "        start = i*len(self)//4\n",
    "        stop = (i+1)*len(self)//4\n",
    "        threads.append(threading.Thread(target=parallel_push_up, args=(self[start:stop], amount)))\n",
    "        threads[-1].start()\n",
    "    for t in threads:\n",
    "        t.join()\n"
   ]
  },
  {
   "cell_type": "markdown",
   "metadata": {
    "pycharm": {
     "name": "#%% md\n"
    }
   },
   "source": [
    "Using the threading library we can take advantage of the batch processing by splitting the computation on multiple thread. This is a nutshell example, and the real power would be to offset the computation to multiple computers.\n",
    "We can then replace the push_up method with this one and try again"
   ]
  },
  {
   "cell_type": "code",
   "execution_count": 32,
   "metadata": {
    "pycharm": {
     "name": "#%%\n"
    }
   },
   "outputs": [
    {
     "name": "stderr",
     "output_type": "stream",
     "text": [
      "100%|██████████| 100/100 [00:00<00:00, 303.48it/s]"
     ]
    },
    {
     "name": "stdout",
     "output_type": "stream",
     "text": [
      "0.03408413189999919\n"
     ]
    },
    {
     "name": "stderr",
     "output_type": "stream",
     "text": [
      "\n"
     ]
    }
   ],
   "source": [
    "ParallelCube = Cube\n",
    "ParallelCube.push_up = push_up_multi\n",
    "\n",
    "all_cubes = [[Cube((j, j*2, j*3), 100) for j in range(nb_cubes)] for i in range(nb_iter)]  # Generate before starting the timer\n",
    "start = time.perf_counter()\n",
    "for i in trange(nb_iter):\n",
    "    cubes = all_cubes[i]\n",
    "    Cube.push_up(cubes, 5)\n",
    "print((time.perf_counter() - start)/10)"
   ]
  },
  {
   "cell_type": "markdown",
   "metadata": {
    "pycharm": {
     "name": "#%% md\n"
    }
   },
   "source": [
    "This, once again, adds a small overhead to the previous implementation for small values, but the execution speed should speed up on bigger examples"
   ]
  },
  {
   "cell_type": "markdown",
   "metadata": {
    "pycharm": {
     "name": "#%% md\n"
    }
   },
   "source": [
    "However, we did not take into consideration the different size of the data, as well as the state of CubeHandler that is never truly reset which can lower the performance. Therefore, we will now compare on truly independents runs the different methods. Let's rename them first"
   ]
  },
  {
   "cell_type": "code",
   "execution_count": 33,
   "metadata": {
    "pycharm": {
     "name": "#%%\n"
    }
   },
   "outputs": [],
   "source": [
    "OCube = StandaloneCube  # Pure Object-Oriented Cube\n",
    "DCube = Cube  # Delegation Cube\n",
    "PCube = ParallelCube  # Parallel Cube with the different push_up function"
   ]
  },
  {
   "cell_type": "markdown",
   "metadata": {
    "pycharm": {
     "name": "#%% md\n"
    }
   },
   "source": [
    "We'll run each iteration 30 times. During each iteration, we will repeat 10 times the operation with each size of data. The size of data will vary from 10 to 10 000 000 cubes. We also define a function to reset the state of the CubeHandler class."
   ]
  },
  {
   "cell_type": "code",
   "execution_count": 34,
   "metadata": {
    "pycharm": {
     "name": "#%%\n"
    }
   },
   "outputs": [],
   "source": [
    "data_sizes = [10**i for i in range(7)]\n",
    "nb_sub_iter = 10  # Iterations with the same input size\n",
    "nb_iter = 30\n",
    "\n",
    "seed = \"OOClimatology\"\n",
    "\n",
    "def reset_CubeHandler():\n",
    "    CubeHandler.instances= np.empty(dtype=Cube, shape=20)\n",
    "    CubeHandler.top_left_back_points = np.empty(dtype=int, shape=(200, 3))\n",
    "    CubeHandler.sizes= np.empty(dtype=int, shape=200)\n",
    "    CubeHandler.next_index = 0\n",
    "\n",
    "times = {\"O\": {d_s: 0 for d_s in data_sizes},\n",
    "         \"D\": {d_s: 0 for d_s in data_sizes},\n",
    "         \"P\": {d_s: 0 for d_s in data_sizes}}"
   ]
  },
  {
   "cell_type": "markdown",
   "metadata": {
    "pycharm": {
     "name": "#%% md\n"
    }
   },
   "source": [
    "Let's first run the process on the default OO Cube"
   ]
  },
  {
   "cell_type": "code",
   "execution_count": 35,
   "metadata": {
    "pycharm": {
     "name": "#%%\n"
    }
   },
   "outputs": [
    {
     "name": "stderr",
     "output_type": "stream",
     "text": [
      "100%|██████████| 7/7 [1:07:10<00:00, 575.79s/it] "
     ]
    },
    {
     "name": "stdout",
     "output_type": "stream",
     "text": [
      "Input size 1: 1.5088223323497612e-05\n",
      "Input size 10: 0.00014470010334055892\n",
      "Input size 100: 0.0011735531466698982\n",
      "Input size 1000: 0.011848211963327533\n",
      "Input size 10000: 0.12403706019001219\n",
      "Input size 100000: 1.2264383605899911\n",
      "Input size 1000000: 12.071332028730009\n"
     ]
    },
    {
     "name": "stderr",
     "output_type": "stream",
     "text": [
      "\n"
     ]
    }
   ],
   "source": [
    "\n",
    "for d_s_i in trange(len(data_sizes)):\n",
    "    start = time.perf_counter()\n",
    "    data_size = data_sizes[d_s_i]\n",
    "    for itr in range(nb_iter):\n",
    "        start = time.perf_counter()\n",
    "        for sub_itr in range(nb_sub_iter):\n",
    "            cubes = [OCube(tuple(random.randint(0, 1000) for _ in range(3)), random.randint(1, 150)) for _ in range(data_size)]\n",
    "            for cube in cubes:\n",
    "                cube.push_up(random.randint(1, 150))\n",
    "        times[\"O\"][data_size] += time.perf_counter() - start\n",
    "for k, v in times[\"O\"].items():\n",
    "    print(f\"Input size {k}: {v/nb_iter/nb_sub_iter}\")"
   ]
  },
  {
   "cell_type": "markdown",
   "source": [
    "Results :\n",
    "Input size 1: 1.6033483340531045e-05\n",
    "Input size 10: 0.00013262055334053\n",
    "Input size 100: 0.0012519019599979704\n",
    "Input size 1000: 0.014779554203332736\n",
    "Input size 10000: 0.1248388435300088\n",
    "Input size 100000: 1.261960869450004\n",
    "Input size 1000000: 15.277993071136668"
   ],
   "metadata": {
    "collapsed": false,
    "pycharm": {
     "name": "#%% md\n"
    }
   }
  },
  {
   "cell_type": "code",
   "execution_count": 36,
   "metadata": {
    "pycharm": {
     "name": "#%%\n"
    }
   },
   "outputs": [
    {
     "name": "stderr",
     "output_type": "stream",
     "text": [
      "100%|██████████| 7/7 [1:09:18<00:00, 594.10s/it] "
     ]
    },
    {
     "name": "stdout",
     "output_type": "stream",
     "text": [
      "Input size 1: 0.0014731990033275604\n",
      "Input size 10: 0.0006189397233295798\n",
      "Input size 100: 0.0020597672600100245\n",
      "Input size 1000: 0.01314310100999137\n",
      "Input size 10000: 0.12840673027000474\n",
      "Input size 100000: 1.258787180366659\n",
      "Input size 1000000: 12.457874083663324\n"
     ]
    },
    {
     "name": "stderr",
     "output_type": "stream",
     "text": [
      "\n"
     ]
    }
   ],
   "source": [
    "for d_s_i in trange(len(data_sizes)):\n",
    "    start = time.perf_counter()\n",
    "    data_size = data_sizes[d_s_i]\n",
    "    for itr in range(nb_iter):\n",
    "        start = time.perf_counter()\n",
    "        for sub_itr in range(nb_sub_iter):\n",
    "            reset_CubeHandler()\n",
    "            cubes = [DCube(tuple(random.randint(0, 1000) for _ in range(3)), random.randint(1, 150)) for _ in range(data_size)]\n",
    "            DCube.push_up(cubes, random.randint(1, 150))\n",
    "        times[\"D\"][data_size] += time.perf_counter() - start\n",
    "for k, v in times[\"D\"].items():\n",
    "    print(f\"Input size {k}: {v/nb_iter/nb_sub_iter}\")"
   ]
  },
  {
   "cell_type": "markdown",
   "source": [
    "Results :\n",
    "Input size 1: 0.0014731990033275604\n",
    "Input size 10: 0.0006189397233295798\n",
    "Input size 100: 0.0020597672600100245\n",
    "Input size 1000: 0.01314310100999137\n",
    "Input size 10000: 0.12840673027000474\n",
    "Input size 100000: 1.258787180366659\n",
    "Input size 1000000: 12.457874083663324"
   ],
   "metadata": {
    "collapsed": false,
    "pycharm": {
     "name": "#%% md\n"
    }
   }
  },
  {
   "cell_type": "code",
   "execution_count": 37,
   "metadata": {
    "pycharm": {
     "name": "#%%\n"
    }
   },
   "outputs": [
    {
     "name": "stderr",
     "output_type": "stream",
     "text": [
      "100%|██████████| 7/7 [1:09:26<00:00, 595.26s/it] "
     ]
    },
    {
     "name": "stdout",
     "output_type": "stream",
     "text": [
      "Input size 1: 0.0009062914333480877\n",
      "Input size 10: 0.0006257278100141168\n",
      "Input size 100: 0.002055309169973043\n",
      "Input size 1000: 0.013073960093321754\n",
      "Input size 10000: 0.12826120002666963\n",
      "Input size 100000: 1.2636692995133672\n",
      "Input size 1000000: 12.48084342499999\n"
     ]
    },
    {
     "name": "stderr",
     "output_type": "stream",
     "text": [
      "\n"
     ]
    }
   ],
   "source": [
    "reset_CubeHandler()\n",
    "for d_s_i in trange(len(data_sizes)):\n",
    "    start = time.perf_counter()\n",
    "    data_size = data_sizes[d_s_i]\n",
    "    for itr in range(nb_iter):\n",
    "        start = time.perf_counter()\n",
    "        for sub_itr in range(nb_sub_iter):\n",
    "            reset_CubeHandler()\n",
    "            cubes = [PCube(tuple(random.randint(0, 1000) for _ in range(3)), random.randint(1, 150)) for _ in range(data_size)]\n",
    "            PCube.push_up(cubes, random.randint(1, 150))\n",
    "        times[\"P\"][data_size] += time.perf_counter() - start\n",
    "for k, v in times[\"P\"].items():\n",
    "    print(f\"Input size {k}: {v/nb_iter/nb_sub_iter}\")"
   ]
  },
  {
   "cell_type": "markdown",
   "source": [
    "Results :\n",
    "Input size 1: 0.0009062914333480877\n",
    "Input size 10: 0.0006257278100141168\n",
    "Input size 100: 0.002055309169973043\n",
    "Input size 1000: 0.013073960093321754\n",
    "Input size 10000: 0.12826120002666963\n",
    "Input size 100000: 1.2636692995133672\n",
    "Input size 1000000: 12.48084342499999"
   ],
   "metadata": {
    "collapsed": false,
    "pycharm": {
     "name": "#%% md\n"
    }
   }
  },
  {
   "cell_type": "code",
   "execution_count": 38,
   "metadata": {
    "pycharm": {
     "name": "#%%\n"
    }
   },
   "outputs": [
    {
     "data": {
      "text/plain": "Text(0, 0.5, 'Time (s)')"
     },
     "execution_count": 38,
     "metadata": {},
     "output_type": "execute_result"
    },
    {
     "data": {
      "text/plain": "<Figure size 432x288 with 1 Axes>",
      "image/png": "[encoded data removed]"
     },
     "metadata": {
      "needs_background": "light"
     },
     "output_type": "display_data"
    }
   ],
   "source": [
    "for k, v in times.items():\n",
    "    plt.plot(data_sizes, [v[d_s]/nb_iter/nb_sub_iter for d_s in data_sizes], label=k)\n",
    "plt.legend()\n",
    "plt.xlabel(\"Input size\")\n",
    "plt.ylabel(\"Time (s)\")"
   ]
  },
  {
   "cell_type": "markdown",
   "source": [
    "The different implementations does not influence the execution speed for this configuration. However, DCube and PCube still have room for more optimization, so we can imagine a future scenario where that implementation is faster.\n",
    "\n",
    "Also, the computation at each time step is pretty simple as each function only has a complexity of O(1). With more compute-intensive functions, we would be able to take advantage of lower level language features to improve the performance."
   ],
   "metadata": {
    "collapsed": false,
    "pycharm": {
     "name": "#%% md\n"
    }
   }
  }
 ],
 "metadata": {
  "kernelspec": {
   "display_name": "Python 3 (ipykernel)",
   "language": "python",
   "name": "python3"
  },
  "language_info": {
   "codemirror_mode": {
    "name": "ipython",
    "version": 3
   },
   "file_extension": ".py",
   "mimetype": "text/x-python",
   "name": "python",
   "nbconvert_exporter": "python",
   "pygments_lexer": "ipython3",
   "version": "3.8.10"
  }
 },
 "nbformat": 4,
 "nbformat_minor": 4
}