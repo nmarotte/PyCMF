{
 "cells": [
  {
   "cell_type": "markdown",
   "metadata": {},
   "source": [
    "The usual OO implementation of a cube with numpy for the data. It only stores the top-left-back most point in a 3D space where the origin is the top-left-back most point, and has another variable for the size of the Cube. The only function that can be applied is `push_up` which will push the cube up (the y-axis component will decrease)"
   ]
  },
  {
   "cell_type": "code",
   "execution_count": 13,
   "metadata": {},
   "outputs": [],
   "source": [
    "import numpy as np\n",
    "from typing import Iterable\n",
    "import time"
   ]
  },
  {
   "cell_type": "code",
   "execution_count": 14,
   "metadata": {},
   "outputs": [],
   "source": [
    "class Cube:\n",
    "    top_left_back_point: np.array\n",
    "    size: int\n",
    "\n",
    "    def __init__(self, top_left_back_point: tuple[int, int, int], size: int):\n",
    "        self.top_left_back_point = np.array(top_left_back_point)\n",
    "        self.size = size\n",
    "\n",
    "    def push_up(self, amount: int):\n",
    "        self.top_left_back_point[1] = max(0, self.top_left_back_point[1] - amount)"
   ]
  },
  {
   "cell_type": "markdown",
   "metadata": {},
   "source": [
    "Then we can instantiate cubes "
   ]
  },
  {
   "cell_type": "code",
   "execution_count": 15,
   "metadata": {},
   "outputs": [],
   "source": [
    "def instantiate_cubes(nb=100):\n",
    "    cubes = []\n",
    "    for i in range(nb):\n",
    "        cubes.append(Cube((i, i*2, i*3), 1))\n",
    "    return cubes"
   ]
  },
  {
   "cell_type": "code",
   "execution_count": 16,
   "metadata": {},
   "outputs": [
    {
     "name": "stdout",
     "output_type": "stream",
     "text": [
      "[ 43  86 129]\n",
      "1\n",
      "[ 43  60 129]\n"
     ]
    }
   ],
   "source": [
    "cubes = instantiate_cubes()\n",
    "print(cubes[43].top_left_back_point)\n",
    "print(cubes[43].size)\n",
    "cubes[43].push_up(26)\n",
    "print(cubes[43].top_left_back_point)"
   ]
  },
  {
   "cell_type": "markdown",
   "metadata": {},
   "source": [
    "Implemanting a handler for the data of all the cubes using numpy\n"
   ]
  },
  {
   "cell_type": "code",
   "execution_count": 17,
   "metadata": {},
   "outputs": [],
   "source": [
    "class CubeHandler:\n",
    "    instances: np.array = np.empty(dtype=Cube, shape=20)\n",
    "    top_left_back_points: np.array = np.empty(dtype=int, shape=(200, 3))\n",
    "    sizes: np.array = np.empty(dtype=int, shape=200)\n",
    "\n",
    "    @staticmethod\n",
    "    def get_next_index():\n",
    "        index = np.where(CubeHandler.instances == None)[0]\n",
    "        if not index.size > 0:\n",
    "            # Extending the arrays\n",
    "            CubeHandler.top_left_back_points = np.append(CubeHandler.top_left_back_points, np.empty_like(CubeHandler.top_left_back_points), axis=0)\n",
    "            CubeHandler.sizes = np.append(CubeHandler.sizes, np.empty_like(CubeHandler.sizes))\n",
    "            CubeHandler.instances = np.append(CubeHandler.instances, np.empty_like(CubeHandler.instances))\n",
    "            index = np.where(CubeHandler.instances == None)[0]\n",
    "        return index[0]"
   ]
  },
  {
   "cell_type": "markdown",
   "metadata": {},
   "source": [
    "Then, we can reimplement the Cube without its main attributes"
   ]
  },
  {
   "cell_type": "code",
   "execution_count": 18,
   "metadata": {},
   "outputs": [],
   "source": [
    "StandaloneCube = Cube\n",
    "class Cube:\n",
    "    def __init__(self, top_left_back_point: tuple[int, int, int], size: int):\n",
    "        self.__index = CubeHandler.get_next_index()\n",
    "        CubeHandler.top_left_back_points[self.__index] = top_left_back_point\n",
    "        CubeHandler.sizes[self.__index] = size\n",
    "        CubeHandler.instances[self.__index] = self\n",
    "\n",
    "    @staticmethod\n",
    "    def batch_push_up(indexes: Iterable[int], amount: int):\n",
    "        for i in indexes:\n",
    "            CubeHandler.top_left_back_points[i][1] = max(0, CubeHandler.top_left_back_points[i][1] - amount)\n",
    "\n",
    "    def push_up(self, amount: int):\n",
    "        if self is None:\n",
    "            self = CubeHandler.instances\n",
    "        if isinstance(self, Cube):\n",
    "            self = [self]\n",
    "        for cube in self:\n",
    "            if cube is None:\n",
    "                continue\n",
    "            cube.top_left_back_point[1] = max(0, cube.top_left_back_point[1] - amount)\n",
    "\n",
    "    @property\n",
    "    def top_left_back_point(self):\n",
    "        return CubeHandler.top_left_back_points[self.__index]\n",
    "\n",
    "    @top_left_back_point.setter\n",
    "    def top_left_back_point(self, value: tuple[int, int, int]):\n",
    "        CubeHandler.top_left_back_points[self.__index] = value\n",
    "\n",
    "    @property\n",
    "    def size(self):\n",
    "        return CubeHandler.sizes[self.__index]\n",
    "\n",
    "    @size.setter\n",
    "    def size(self, value: int):\n",
    "        CubeHandler.sizes[self.__index] = value\n",
    "\n",
    "    def __del__(self):\n",
    "        CubeHandler.top_left_back_points[self.__index] = np.array([-1, -1, -1])\n",
    "        CubeHandler.sizes[self.__index] = -1\n",
    "        CubeHandler.instances[self.__index] = None"
   ]
  },
  {
   "cell_type": "code",
   "execution_count": 19,
   "metadata": {},
   "outputs": [
    {
     "name": "stdout",
     "output_type": "stream",
     "text": [
      "[ 43  86 129]\n",
      "1\n",
      "[ 43  60 129]\n"
     ]
    }
   ],
   "source": [
    "cubes = instantiate_cubes()\n",
    "print(cubes[43].top_left_back_point)\n",
    "print(cubes[43].size)\n",
    "cubes[43].push_up(26)\n",
    "print(cubes[43].top_left_back_point)"
   ]
  },
  {
   "cell_type": "markdown",
   "metadata": {},
   "source": [
    "The interface is the same, but now comes with an advantage of being able to apply functions on the data more efficiently"
   ]
  },
  {
   "cell_type": "code",
   "execution_count": 20,
   "metadata": {},
   "outputs": [
    {
     "name": "stdout",
     "output_type": "stream",
     "text": [
      "[20, 22, 24, 26, 28, 30, 32, 34, 36, 38]\n",
      "[15, 17, 19, 21, 23, 25, 27, 29, 31, 33]\n"
     ]
    }
   ],
   "source": [
    "cubes = instantiate_cubes()\n",
    "print(list(x.top_left_back_point[1] for x in cubes[10:20]))\n",
    "Cube.push_up(cubes, 5)\n",
    "print(list(x.top_left_back_point[1] for x in cubes[10:20]))"
   ]
  },
  {
   "cell_type": "code",
   "execution_count": 21,
   "metadata": {},
   "outputs": [
    {
     "name": "stdout",
     "output_type": "stream",
     "text": [
      "320\n"
     ]
    },
    {
     "data": {
      "text/plain": "200"
     },
     "execution_count": 21,
     "metadata": {},
     "output_type": "execute_result"
    }
   ],
   "source": [
    "print(len(CubeHandler.instances))\n",
    "CubeHandler.get_next_index()"
   ]
  },
  {
   "cell_type": "markdown",
   "metadata": {},
   "source": [
    "But we can also use a fast implementation of the same function that would be much slower in OO"
   ]
  },
  {
   "cell_type": "code",
   "execution_count": 22,
   "metadata": {},
   "outputs": [],
   "source": [
    "nb_cubes = 10_000"
   ]
  },
  {
   "cell_type": "code",
   "execution_count": 23,
   "metadata": {},
   "outputs": [
    {
     "name": "stdout",
     "output_type": "stream",
     "text": [
      "0.007435800000003212\n"
     ]
    }
   ],
   "source": [
    "standalone_cubes = [StandaloneCube((i, i*2, i*3), 100) for i in range(nb_cubes)]\n",
    "start = time.perf_counter()\n",
    "for cube in standalone_cubes:\n",
    "    cube.push_up(5)\n",
    "print(time.perf_counter() - start)"
   ]
  },
  {
   "cell_type": "code",
   "execution_count": null,
   "metadata": {
    "pycharm": {
     "is_executing": true
    }
   },
   "outputs": [],
   "source": [
    "start = time.perf_counter()\n",
    "for i in range(10):\n",
    "    cubes = [Cube((i, i*2, i*3), 100) for i in range(nb_cubes)]\n",
    "    Cube.push_up(cubes, 5)\n",
    "print((time.perf_counter() - start)/10)"
   ]
  },
  {
   "cell_type": "code",
   "execution_count": null,
   "metadata": {
    "pycharm": {
     "is_executing": true
    }
   },
   "outputs": [],
   "source": [
    "start = time.perf_counter()\n",
    "for i in range(10):\n",
    "    cubes = [Cube((i, i*2, i*3), 100) for i in range(nb_cubes)]\n",
    "    for cube in standalone_cubes:\n",
    "        cube.push_up(5)\n",
    "print((time.perf_counter() - start)/10)"
   ]
  },
  {
   "cell_type": "markdown",
   "metadata": {},
   "source": [
    "There seems to be no significant execution speed difference on this small example, but this illustrates well the\n",
    " different ways of implementing equivalent state changes through different paradigms and still retain the object-oriented interface abstraction."
   ]
  }
 ],
 "metadata": {
  "kernelspec": {
   "name": "pycharm-3732198",
   "language": "python",
   "display_name": "PyCharm (UndCliMo)"
  },
  "language_info": {
   "codemirror_mode": {
    "name": "ipython",
    "version": 3
   },
   "file_extension": ".py",
   "mimetype": "text/x-python",
   "name": "python",
   "nbconvert_exporter": "python",
   "pygments_lexer": "ipython3",
   "version": "3.10.0"
  }
 },
 "nbformat": 4,
 "nbformat_minor": 4
}