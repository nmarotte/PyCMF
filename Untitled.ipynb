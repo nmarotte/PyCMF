{
 "cells": [
  {
   "cell_type": "markdown",
   "metadata": {
    "pycharm": {
     "name": "#%% md\n"
    }
   },
   "source": [
    "The usual OO implementation of a cube with numpy for the data. It only stores the top-left-back most point in a 3D space where the origin is the top-left-back most point, and has another variable for the size of the Cube. The only function that can be applied is `push_up` which will push the cube up (the y-axis component will decrease)"
   ]
  },
  {
   "cell_type": "code",
   "execution_count": 1,
   "metadata": {},
   "outputs": [],
   "source": [
    "import random\n",
    "\n",
    "import numpy as np\n",
    "from typing import Iterable\n",
    "import time\n",
    "from tqdm.auto import trange"
   ]
  },
  {
   "cell_type": "code",
   "execution_count": 2,
   "metadata": {},
   "outputs": [],
   "source": [
    "class Cube:\n",
    "    top_left_back_point: np.array\n",
    "    size: int\n",
    "\n",
    "    def __init__(self, top_left_back_point: tuple[int, int, int], size: int):\n",
    "        self.top_left_back_point = np.array(top_left_back_point)\n",
    "        self.size = size\n",
    "\n",
    "    def push_up(self, amount: int):\n",
    "        self.top_left_back_point[1] = max(0, self.top_left_back_point[1] - amount)"
   ]
  },
  {
   "cell_type": "markdown",
   "metadata": {},
   "source": [
    "Then we can instantiate cubes "
   ]
  },
  {
   "cell_type": "code",
   "execution_count": 3,
   "metadata": {},
   "outputs": [],
   "source": [
    "def instantiate_cubes(nb=100):\n",
    "    cubes = []\n",
    "    for i in range(nb):\n",
    "        cubes.append(Cube((i, i*2, i*3), 1))\n",
    "    return cubes"
   ]
  },
  {
   "cell_type": "code",
   "execution_count": 4,
   "metadata": {},
   "outputs": [
    {
     "name": "stdout",
     "output_type": "stream",
     "text": [
      "[ 43  86 129]\n",
      "1\n",
      "[ 43  60 129]\n"
     ]
    }
   ],
   "source": [
    "cubes = instantiate_cubes()\n",
    "print(cubes[43].top_left_back_point)\n",
    "print(cubes[43].size)\n",
    "cubes[43].push_up(26)\n",
    "print(cubes[43].top_left_back_point)"
   ]
  },
  {
   "cell_type": "markdown",
   "metadata": {},
   "source": [
    "Implemanting a handler for the data of all the cubes using numpy\n"
   ]
  },
  {
   "cell_type": "code",
   "execution_count": 5,
   "metadata": {},
   "outputs": [],
   "source": [
    "class CubeHandler:\n",
    "    instances: np.array = np.empty(dtype=Cube, shape=20)\n",
    "    top_left_back_points: np.array = np.empty(dtype=int, shape=(200, 3))\n",
    "    sizes: np.array = np.empty(dtype=int, shape=200)\n",
    "    next_index = 0\n",
    "\n",
    "    @staticmethod\n",
    "    def get_next_index():\n",
    "        index = CubeHandler.next_index\n",
    "        if index >= len(CubeHandler.instances):\n",
    "            # Extending the arrays\n",
    "            CubeHandler.top_left_back_points = np.append(CubeHandler.top_left_back_points, np.empty_like(CubeHandler.top_left_back_points), axis=0)\n",
    "            CubeHandler.sizes = np.append(CubeHandler.sizes, np.empty_like(CubeHandler.sizes))\n",
    "            CubeHandler.instances = np.append(CubeHandler.instances, np.empty_like(CubeHandler.instances))\n",
    "        CubeHandler.next_index += 1\n",
    "        return index"
   ]
  },
  {
   "cell_type": "markdown",
   "metadata": {},
   "source": [
    "Then, we can reimplement the Cube without its main attributes"
   ]
  },
  {
   "cell_type": "code",
   "execution_count": 6,
   "metadata": {},
   "outputs": [],
   "source": [
    "StandaloneCube = Cube\n",
    "class Cube:\n",
    "    def __init__(self, top_left_back_point: tuple[int, int, int], size: int):\n",
    "        self.__index = CubeHandler.get_next_index()\n",
    "        CubeHandler.top_left_back_points[self.__index] = top_left_back_point\n",
    "        CubeHandler.sizes[self.__index] = size\n",
    "        CubeHandler.instances[self.__index] = self\n",
    "\n",
    "    def push_up(self, amount: int):\n",
    "        if self is None:\n",
    "            self = CubeHandler.instances\n",
    "        if isinstance(self, Cube):\n",
    "            self = [self]\n",
    "\n",
    "        for cube in self:\n",
    "            if cube is None:\n",
    "                continue\n",
    "            cube.top_left_back_point[1] = max(0, cube.top_left_back_point[1] - amount)\n",
    "\n",
    "    @property\n",
    "    def top_left_back_point(self):\n",
    "        return CubeHandler.top_left_back_points[self.__index]\n",
    "\n",
    "    @top_left_back_point.setter\n",
    "    def top_left_back_point(self, value: tuple[int, int, int]):\n",
    "        CubeHandler.top_left_back_points[self.__index] = value\n",
    "\n",
    "    @property\n",
    "    def size(self):\n",
    "        return CubeHandler.sizes[self.__index]\n",
    "\n",
    "    @size.setter\n",
    "    def size(self, value: int):\n",
    "        CubeHandler.sizes[self.__index] = value\n"
   ]
  },
  {
   "cell_type": "code",
   "execution_count": 7,
   "metadata": {},
   "outputs": [
    {
     "name": "stdout",
     "output_type": "stream",
     "text": [
      "[ 43  86 129]\n",
      "1\n",
      "[ 43  60 129]\n"
     ]
    }
   ],
   "source": [
    "cubes = instantiate_cubes()\n",
    "print(cubes[43].top_left_back_point)\n",
    "print(cubes[43].size)\n",
    "cubes[43].push_up(26)\n",
    "print(cubes[43].top_left_back_point)"
   ]
  },
  {
   "cell_type": "markdown",
   "metadata": {},
   "source": [
    "The interface is the same, but now comes with an advantage of being able to apply functions on the data more efficiently"
   ]
  },
  {
   "cell_type": "code",
   "execution_count": 8,
   "metadata": {},
   "outputs": [
    {
     "name": "stdout",
     "output_type": "stream",
     "text": [
      "[20, 22, 24, 26, 28, 30, 32, 34, 36, 38]\n",
      "[15, 17, 19, 21, 23, 25, 27, 29, 31, 33]\n"
     ]
    }
   ],
   "source": [
    "cubes = instantiate_cubes()\n",
    "print(list(x.top_left_back_point[1] for x in cubes[10:20]))\n",
    "Cube.push_up(cubes, 5)\n",
    "print(list(x.top_left_back_point[1] for x in cubes[10:20]))"
   ]
  },
  {
   "cell_type": "code",
   "execution_count": 9,
   "metadata": {},
   "outputs": [
    {
     "name": "stdout",
     "output_type": "stream",
     "text": [
      "320\n"
     ]
    },
    {
     "data": {
      "text/plain": "200"
     },
     "execution_count": 9,
     "metadata": {},
     "output_type": "execute_result"
    }
   ],
   "source": [
    "print(len(CubeHandler.instances))\n",
    "CubeHandler.get_next_index()"
   ]
  },
  {
   "cell_type": "markdown",
   "metadata": {},
   "source": [
    "But we can also use a fast implementation of the same function that would be much slower in OO"
   ]
  },
  {
   "cell_type": "code",
   "execution_count": 10,
   "metadata": {},
   "outputs": [],
   "source": [
    "nb_cubes = 1000\n",
    "nb_iter = 100"
   ]
  },
  {
   "cell_type": "code",
   "execution_count": 11,
   "metadata": {},
   "outputs": [
    {
     "data": {
      "text/plain": "  0%|          | 0/100 [00:00<?, ?it/s]",
      "application/vnd.jupyter.widget-view+json": {
       "version_major": 2,
       "version_minor": 0,
       "model_id": "8b6e5f8a69564105b85928eac6f372e8"
      }
     },
     "metadata": {},
     "output_type": "display_data"
    },
    {
     "name": "stdout",
     "output_type": "stream",
     "text": [
      "0.018719170000000007\n"
     ]
    }
   ],
   "source": [
    "all_cubes = [[Cube((j, j*2, j*3), 100) for j in range(nb_cubes)] for i in range(nb_iter)]  # Generate before starting the timer\n",
    "start = time.perf_counter()\n",
    "for i in trange(nb_iter):\n",
    "    cubes = all_cubes[i]\n",
    "    Cube.push_up(cubes, 5)\n",
    "print((time.perf_counter() - start)/10)"
   ]
  },
  {
   "cell_type": "code",
   "execution_count": 12,
   "metadata": {},
   "outputs": [
    {
     "data": {
      "text/plain": "  0%|          | 0/100 [00:00<?, ?it/s]",
      "application/vnd.jupyter.widget-view+json": {
       "version_major": 2,
       "version_minor": 0,
       "model_id": "8a22494afe7e42c992070004761d8340"
      }
     },
     "metadata": {},
     "output_type": "display_data"
    },
    {
     "name": "stdout",
     "output_type": "stream",
     "text": [
      "0.016698720000000035\n"
     ]
    }
   ],
   "source": [
    "all_cubes = [[Cube((j, j*2, j*3), 100) for j in range(nb_cubes)] for i in range(nb_iter)]  # Generate before starting the timer\n",
    "start = time.perf_counter()\n",
    "for i in trange(nb_iter):\n",
    "    cubes = all_cubes[i]\n",
    "    for cube in cubes:\n",
    "        cube.push_up(5)\n",
    "print((time.perf_counter() - start)/10)"
   ]
  },
  {
   "cell_type": "markdown",
   "metadata": {},
   "source": [
    "There is a small overhead when using this paradigm, but the advantage is that we can take advantages of the fact that in some context, we will have to apply the same mathematical transformation to a number of adjacent indexes and this can be optimized, whereas in the case of 1 function call = 1 modification, it would be more complex to apply some optimizations"
   ]
  },
  {
   "cell_type": "code",
   "execution_count": 13,
   "outputs": [],
   "source": [
    "import threading\n",
    "\n",
    "def parallel_push_up(self, amount):\n",
    "    for cube in self:\n",
    "        if cube is None:\n",
    "            continue\n",
    "        cube.top_left_back_point[1] = max(0, cube.top_left_back_point[1] - amount)\n",
    "    return self\n",
    "\n",
    "def push_up_multi(self, amount):\n",
    "    if self is None:\n",
    "        self = CubeHandler.instances\n",
    "    if isinstance(self, Cube):\n",
    "        self = [self]\n",
    "    threads = []\n",
    "    for i in range(4):\n",
    "        start = i*len(self)//4\n",
    "        stop = (i+1)*len(self)//4\n",
    "        threads.append(threading.Thread(target=parallel_push_up, args=(self[start:stop], amount)))\n",
    "        threads[-1].start()\n",
    "    for t in threads:\n",
    "        t.join()\n"
   ],
   "metadata": {
    "collapsed": false,
    "pycharm": {
     "name": "#%%\n"
    }
   }
  },
  {
   "cell_type": "markdown",
   "source": [
    "Using the threading library we can take advantage of the batch processing by splitting the computation on multiple thread. This is a nutshell example, and the real power would be to offset the computation to multiple computers.\n",
    "We can then replace the push_up method with this one and try again"
   ],
   "metadata": {
    "collapsed": false,
    "pycharm": {
     "name": "#%% md\n"
    }
   }
  },
  {
   "cell_type": "code",
   "execution_count": 14,
   "outputs": [
    {
     "data": {
      "text/plain": "  0%|          | 0/100 [00:00<?, ?it/s]",
      "application/vnd.jupyter.widget-view+json": {
       "version_major": 2,
       "version_minor": 0,
       "model_id": "ea5f40d3399c4007be27fa619e95498d"
      }
     },
     "metadata": {},
     "output_type": "display_data"
    },
    {
     "name": "stdout",
     "output_type": "stream",
     "text": [
      "0.02188226000000002\n"
     ]
    }
   ],
   "source": [
    "ParallelCube = Cube\n",
    "ParallelCube.push_up = push_up_multi\n",
    "\n",
    "all_cubes = [[Cube((j, j*2, j*3), 100) for j in range(nb_cubes)] for i in range(nb_iter)]  # Generate before starting the timer\n",
    "start = time.perf_counter()\n",
    "for i in trange(nb_iter):\n",
    "    cubes = all_cubes[i]\n",
    "    Cube.push_up(cubes, 5)\n",
    "print((time.perf_counter() - start)/10)"
   ],
   "metadata": {
    "collapsed": false,
    "pycharm": {
     "name": "#%%\n"
    }
   }
  },
  {
   "cell_type": "markdown",
   "source": [
    "This, once again, adds a small overhead to the previous implementation, but the execution speed seems faster with those examples"
   ],
   "metadata": {
    "collapsed": false,
    "pycharm": {
     "name": "#%% md\n"
    }
   }
  },
  {
   "cell_type": "markdown",
   "source": [
    "However, we did not take into consideration the different size of the data, as well as the state of CubeHandler that is never truly reset which can lower the performance. Therefore, we will now compare on truly independents runs the different methods. Let's rename them first"
   ],
   "metadata": {
    "collapsed": false,
    "pycharm": {
     "name": "#%% md\n"
    }
   }
  },
  {
   "cell_type": "code",
   "execution_count": 15,
   "outputs": [],
   "source": [
    "OCube = StandaloneCube  # Pure Object-Oriented Cube\n",
    "DCube = Cube  # Delegation Cube\n",
    "PCube = ParallelCube  # Parallel Cube with the different push_up function"
   ],
   "metadata": {
    "collapsed": false,
    "pycharm": {
     "name": "#%%\n"
    }
   }
  },
  {
   "cell_type": "markdown",
   "source": [
    "We'll run each iteration 100 times. During each iteration, we will repeat 10 times the operation with each size of data. The size of data will vary from 10 to 100 000 cubes. We also define a function to reset the state of the CubeHandler class."
   ],
   "metadata": {
    "collapsed": false,
    "pycharm": {
     "name": "#%% md\n"
    }
   }
  },
  {
   "cell_type": "code",
   "execution_count": 16,
   "outputs": [],
   "source": [
    "data_sizes = [10**i for i in range(7)]\n",
    "nb_sub_iter = 10  # Iterations with the same input size\n",
    "nb_iter = 30\n",
    "\n",
    "seed = \"OOClimatology\"\n",
    "\n",
    "def reset_CubeHandler():\n",
    "    CubeHandler.instances= np.empty(dtype=Cube, shape=20)\n",
    "    CubeHandler.top_left_back_points = np.empty(dtype=int, shape=(200, 3))\n",
    "    CubeHandler.sizes= np.empty(dtype=int, shape=200)\n",
    "    CubeHandler.next_index = 0"
   ],
   "metadata": {
    "collapsed": false,
    "pycharm": {
     "name": "#%%\n"
    }
   }
  },
  {
   "cell_type": "markdown",
   "source": [
    "Let's first run the process on the default OO Cube"
   ],
   "metadata": {
    "collapsed": false,
    "pycharm": {
     "name": "#%% md\n"
    }
   }
  },
  {
   "cell_type": "code",
   "execution_count": 17,
   "outputs": [
    {
     "data": {
      "text/plain": "  0%|          | 0/7 [00:00<?, ?it/s]",
      "application/vnd.jupyter.widget-view+json": {
       "version_major": 2,
       "version_minor": 0,
       "model_id": "f5a7f06a21184bea89aab288379ba1d5"
      }
     },
     "metadata": {},
     "output_type": "display_data"
    },
    {
     "ename": "KeyboardInterrupt",
     "evalue": "",
     "output_type": "error",
     "traceback": [
      "\u001B[1;31m---------------------------------------------------------------------------\u001B[0m",
      "\u001B[1;31mKeyboardInterrupt\u001B[0m                         Traceback (most recent call last)",
      "Input \u001B[1;32mIn [17]\u001B[0m, in \u001B[0;36m<cell line: 2>\u001B[1;34m()\u001B[0m\n\u001B[0;32m      6\u001B[0m start \u001B[38;5;241m=\u001B[39m time\u001B[38;5;241m.\u001B[39mperf_counter()\n\u001B[0;32m      7\u001B[0m \u001B[38;5;28;01mfor\u001B[39;00m sub_itr \u001B[38;5;129;01min\u001B[39;00m \u001B[38;5;28mrange\u001B[39m(nb_sub_iter):\n\u001B[1;32m----> 8\u001B[0m     cubes \u001B[38;5;241m=\u001B[39m [OCube(\u001B[38;5;28mtuple\u001B[39m(random\u001B[38;5;241m.\u001B[39mrandint(\u001B[38;5;241m0\u001B[39m, \u001B[38;5;241m1000\u001B[39m) \u001B[38;5;28;01mfor\u001B[39;00m _ \u001B[38;5;129;01min\u001B[39;00m \u001B[38;5;28mrange\u001B[39m(\u001B[38;5;241m3\u001B[39m)), random\u001B[38;5;241m.\u001B[39mrandint(\u001B[38;5;241m1\u001B[39m, \u001B[38;5;241m150\u001B[39m)) \u001B[38;5;28;01mfor\u001B[39;00m _ \u001B[38;5;129;01min\u001B[39;00m \u001B[38;5;28mrange\u001B[39m(data_size)]\n\u001B[0;32m      9\u001B[0m     \u001B[38;5;28;01mfor\u001B[39;00m cube \u001B[38;5;129;01min\u001B[39;00m cubes:\n\u001B[0;32m     10\u001B[0m         cube\u001B[38;5;241m.\u001B[39mpush_up(random\u001B[38;5;241m.\u001B[39mrandint(\u001B[38;5;241m1\u001B[39m, \u001B[38;5;241m150\u001B[39m))\n",
      "Input \u001B[1;32mIn [17]\u001B[0m, in \u001B[0;36m<listcomp>\u001B[1;34m(.0)\u001B[0m\n\u001B[0;32m      6\u001B[0m start \u001B[38;5;241m=\u001B[39m time\u001B[38;5;241m.\u001B[39mperf_counter()\n\u001B[0;32m      7\u001B[0m \u001B[38;5;28;01mfor\u001B[39;00m sub_itr \u001B[38;5;129;01min\u001B[39;00m \u001B[38;5;28mrange\u001B[39m(nb_sub_iter):\n\u001B[1;32m----> 8\u001B[0m     cubes \u001B[38;5;241m=\u001B[39m [OCube(\u001B[38;5;28mtuple\u001B[39m(random\u001B[38;5;241m.\u001B[39mrandint(\u001B[38;5;241m0\u001B[39m, \u001B[38;5;241m1000\u001B[39m) \u001B[38;5;28;01mfor\u001B[39;00m _ \u001B[38;5;129;01min\u001B[39;00m \u001B[38;5;28mrange\u001B[39m(\u001B[38;5;241m3\u001B[39m)), \u001B[43mrandom\u001B[49m\u001B[38;5;241m.\u001B[39mrandint(\u001B[38;5;241m1\u001B[39m, \u001B[38;5;241m150\u001B[39m)) \u001B[38;5;28;01mfor\u001B[39;00m _ \u001B[38;5;129;01min\u001B[39;00m \u001B[38;5;28mrange\u001B[39m(data_size)]\n\u001B[0;32m      9\u001B[0m     \u001B[38;5;28;01mfor\u001B[39;00m cube \u001B[38;5;129;01min\u001B[39;00m cubes:\n\u001B[0;32m     10\u001B[0m         cube\u001B[38;5;241m.\u001B[39mpush_up(random\u001B[38;5;241m.\u001B[39mrandint(\u001B[38;5;241m1\u001B[39m, \u001B[38;5;241m150\u001B[39m))\n",
      "\u001B[1;31mKeyboardInterrupt\u001B[0m: "
     ]
    }
   ],
   "source": [
    "times = {d_s: 0 for d_s in data_sizes}\n",
    "for d_s_i in trange(len(data_sizes)):\n",
    "    start = time.perf_counter()\n",
    "    data_size = data_sizes[d_s_i]\n",
    "    for itr in range(nb_iter):\n",
    "        start = time.perf_counter()\n",
    "        for sub_itr in range(nb_sub_iter):\n",
    "            cubes = [OCube(tuple(random.randint(0, 1000) for _ in range(3)), random.randint(1, 150)) for _ in range(data_size)]\n",
    "            for cube in cubes:\n",
    "                cube.push_up(random.randint(1, 150))\n",
    "    times[data_size] = time.perf_counter() - start\n",
    "for k, v in times.items():\n",
    "    print(f\"Input size {k}: {v}\")"
   ],
   "metadata": {
    "collapsed": false,
    "pycharm": {
     "name": "#%%\n"
    }
   }
  },
  {
   "cell_type": "code",
   "execution_count": null,
   "outputs": [],
   "source": [
    "times = {d_s: 0 for d_s in data_sizes}\n",
    "for d_s_i in trange(len(data_sizes)):\n",
    "    start = time.perf_counter()\n",
    "    data_size = data_sizes[d_s_i]\n",
    "    for itr in range(nb_iter):\n",
    "        start = time.perf_counter()\n",
    "        for sub_itr in range(nb_sub_iter):\n",
    "            cubes = [OCube(tuple(random.randint(0, 1000) for _ in range(3)), random.randint(1, 150)) for _ in range(data_size)]\n",
    "            DCube.push_up(cubes, random.randint(1, 150))\n",
    "    times[data_size] = time.perf_counter() - start\n",
    "for k, v in times.items():\n",
    "    print(f\"Input size {k}: {v}\")"
   ],
   "metadata": {
    "collapsed": false,
    "pycharm": {
     "name": "#%%\n"
    }
   }
  },
  {
   "cell_type": "code",
   "execution_count": null,
   "outputs": [
    {
     "data": {
      "text/plain": "  0%|          | 0/7 [00:00<?, ?it/s]",
      "application/vnd.jupyter.widget-view+json": {
       "version_major": 2,
       "version_minor": 0,
       "model_id": "c8b339cb554342e4b683c597e671fac9"
      }
     },
     "metadata": {},
     "output_type": "display_data"
    }
   ],
   "source": [
    "times = {d_s: 0 for d_s in data_sizes}\n",
    "reset_CubeHandler()\n",
    "for d_s_i in trange(len(data_sizes)):\n",
    "    start = time.perf_counter()\n",
    "    data_size = data_sizes[d_s_i]\n",
    "    for itr in range(nb_iter):\n",
    "        start = time.perf_counter()\n",
    "        for sub_itr in range(nb_sub_iter):\n",
    "            cubes = [OCube(tuple(random.randint(0, 1000) for _ in range(3)), random.randint(1, 150)) for _ in range(data_size)]\n",
    "            PCube.push_up(cubes, random.randint(1, 150))\n",
    "    times[data_size] = time.perf_counter() - start\n",
    "for k, v in times.items():\n",
    "    print(f\"Input size {k}: {v}\")"
   ],
   "metadata": {
    "collapsed": false,
    "pycharm": {
     "name": "#%%\n",
     "is_executing": true
    }
   }
  },
  {
   "cell_type": "code",
   "execution_count": null,
   "outputs": [],
   "source": [],
   "metadata": {
    "collapsed": false,
    "pycharm": {
     "name": "#%%\n"
    }
   }
  }
 ],
 "metadata": {
  "kernelspec": {
   "display_name": "PyCharm (UndCliMo)",
   "language": "python",
   "name": "pycharm-3732198"
  },
  "language_info": {
   "codemirror_mode": {
    "name": "ipython",
    "version": 3
   },
   "file_extension": ".py",
   "mimetype": "text/x-python",
   "name": "python",
   "nbconvert_exporter": "python",
   "pygments_lexer": "ipython3",
   "version": "3.9.12"
  }
 },
 "nbformat": 4,
 "nbformat_minor": 4
}